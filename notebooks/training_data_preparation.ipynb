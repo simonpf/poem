{
 "cells": [
  {
   "cell_type": "markdown",
   "id": "1a22294e-58c8-4101-9ba8-54331cecaa2a",
   "metadata": {},
   "source": [
    "# Training data preparation\n",
    "\n",
    "This notebook prepares the training data for the training of the emulator model.\n",
    "\n",
    "## Approach\n",
    "\n",
    "In order to allow the emulator to be applied to arbitrary atmospheric grids, the input profile are interpolated to equidistant points along the pencil beam. Since the simulations assume a slant pencil beam through a plane parallel atmosphere, the effective distance along the beam must be calculated from the layer distance (500 m).\n",
    "\n",
    "All profiles are interpolated to 36 equidistant points along the pencil beam.\n",
    "\n",
    "> *NOTE*: For simplicity, I extended the profile to be defined on the layer boundaries instead of in between."
   ]
  },
  {
   "cell_type": "code",
   "execution_count": 9,
   "id": "db79b1e2-378c-4660-81f0-1726ee6f2c71",
   "metadata": {},
   "outputs": [
    {
     "name": "stdout",
     "output_type": "stream",
     "text": [
      "The autoreload extension is already loaded. To reload it, use:\n",
      "  %reload_ext autoreload\n"
     ]
    }
   ],
   "source": [
    "%load_ext autoreload\n",
    "%autoreload 2\n",
    "import matplotlib.pyplot as plt\n",
    "import numpy as np\n",
    "import xarray as xr"
   ]
  },
  {
   "cell_type": "code",
   "execution_count": 10,
   "id": "b956bab1-b3c1-469c-b3ba-97753b8be5a1",
   "metadata": {},
   "outputs": [],
   "source": [
    "from pathlib import Path\n",
    "profile_path = Path('/edata2/spencer/eddington_emulator/era5_profiles_ocean_500m/')\n",
    "profile_files = sorted(list(profile_path.glob(\"*_500m.bin\")))\n",
    "sim_files = []\n",
    "matched_profile_files = []\n",
    "for profile_file in profile_files:\n",
    "    sim_file = profile_file.parent / profile_file.name.replace(\".bin\", \"_simobs.bin\")\n",
    "    if sim_file.exists():\n",
    "        sim_files.append(sim_file)\n",
    "        matched_profile_files.append(profile_file)"
   ]
  },
  {
   "cell_type": "code",
   "execution_count": 12,
   "id": "b9895a5f-840d-4e54-bfc2-aae5f04d840b",
   "metadata": {},
   "outputs": [
    {
     "data": {
      "text/plain": [
       "119"
      ]
     },
     "execution_count": 12,
     "metadata": {},
     "output_type": "execute_result"
    }
   ],
   "source": [
    "len(matched_profile_files)"
   ]
  },
  {
   "cell_type": "code",
   "execution_count": 14,
   "id": "a3b44d31-5457-4a08-aa7a-183ab77578f5",
   "metadata": {},
   "outputs": [],
   "source": [
    "from poem.emulator.training_data import read_profile_file, read_sim_file\n",
    "from filelock import FileLock\n",
    "from tqdm import tqdm\n",
    "\n",
    "# The number and distance between the equidistant steps along the pencil beam.\n",
    "N_STEPS = 36\n",
    "STEP_DISTANCE = 1.0\n",
    "\n",
    "def extract_training_data(\n",
    "    profile_file: Path,\n",
    "    sim_file: Path,\n",
    "    output_file: Path\n",
    ") -> None:\n",
    "    \"\"\"\n",
    "    Extract training data from profile/sim file pairs.\n",
    "\n",
    "    Args:\n",
    "        profile_file: A path object pointing to the profile file.\n",
    "        sim_file: A path object pointing to the sim file.\n",
    "        output_file: The file to which to write the training data.\n",
    "    \"\"\"\n",
    "    output_file = Path(output_file)\n",
    "    \n",
    "    profiles = read_profile_file(profile_file)\n",
    "    simulations = read_sim_file(sim_file)\n",
    "\n",
    "    profile_inds = np.random.permutation(profiles.profiles.size)\n",
    "\n",
    "    training_profiles = []\n",
    "\n",
    "    for profile_ind in tqdm(profile_inds):\n",
    "        profile_data = profiles[{\"profiles\": profile_ind}]\n",
    "        sim_data = simulations[{\"profiles\": profile_ind}]\n",
    "        \n",
    "        eia = profile_data.earth_incidence_angle.data\n",
    "        path_distance = profile_data.height.data / np.cos(np.deg2rad(eia))\n",
    "\n",
    "        profile_data[\"levels\"] = ((\"levels\"), path_distance)\n",
    "        profile_data = profile_data.interp(\n",
    "            levels=STEP_DISTANCE * np.arange(N_STEPS),\n",
    "            kwargs={\"fill_value\": 0.0}\n",
    "        )\n",
    "\n",
    "        training_profile = xr.merge([profile_data, sim_data])\n",
    "        training_profiles.append(training_profile)\n",
    "\n",
    "    training_profiles = xr.concat(training_profiles, dim=\"profiles\")\n",
    "\n",
    "    enc = {\n",
    "        var: {\"dtype\": \"float32\", \"zlib\": True}\n",
    "        for var in training_profiles.variables\n",
    "    }\n",
    "\n",
    "    lock = FileLock(str(output_file) + \".lock\")\n",
    "    with lock:\n",
    "        if output_file.exists():\n",
    "            existing = xr.load_dataset(output_file)\n",
    "            training_profiles = xr.concat([existing, training_profiles], dim=\"profiles\")\n",
    "            training_profiles = training_profiles[\n",
    "                {\"profiles\": np.random.permutation(training_profiles.profiles.size)}\n",
    "            ]\n",
    "        training_profiles.to_netcdf(output_file, encoding=enc)"
   ]
  },
  {
   "cell_type": "code",
   "execution_count": 15,
   "id": "94c5833c-cc83-476d-9d94-8d7708a5384e",
   "metadata": {},
   "outputs": [],
   "source": [
    "inds = np.random.permutation(len(sim_files))"
   ]
  },
  {
   "cell_type": "code",
   "execution_count": 16,
   "id": "0966619d-49a1-441c-ac2d-e809d8cac846",
   "metadata": {},
   "outputs": [
    {
     "name": "stderr",
     "output_type": "stream",
     "text": [
      "100%|██████████████████████████████████████████████████████████| 548036/548036 [26:38<00:00, 342.88it/s]\n",
      "100%|██████████████████████████████████████████████████████████| 543400/543400 [26:32<00:00, 341.29it/s]\n",
      "100%|██████████████████████████████████████████████████████████| 541684/541684 [26:10<00:00, 344.85it/s]\n",
      "100%|██████████████████████████████████████████████████████████| 540104/540104 [26:19<00:00, 341.91it/s]\n"
     ]
    }
   ],
   "source": [
    "for ind in inds[:4]:\n",
    "    extract_training_data(matched_profile_files[ind], sim_files[ind], \"/home/simon/data/poem/full/validation_data.nc\")"
   ]
  },
  {
   "cell_type": "code",
   "execution_count": null,
   "id": "dfea489b-3da2-405d-967a-30d2a36ac9ad",
   "metadata": {},
   "outputs": [
    {
     "name": "stderr",
     "output_type": "stream",
     "text": [
      "100%|██████████████████████████████████████████████████████████| 543368/543368 [26:23<00:00, 343.09it/s]\n",
      "100%|██████████████████████████████████████████████████████████| 535848/535848 [25:41<00:00, 347.55it/s]\n",
      "100%|██████████████████████████████████████████████████████████| 547424/547424 [26:27<00:00, 344.80it/s]\n",
      "100%|██████████████████████████████████████████████████████████| 547848/547848 [26:23<00:00, 346.06it/s]\n",
      "100%|██████████████████████████████████████████████████████████| 539684/539684 [25:55<00:00, 346.90it/s]\n",
      "100%|██████████████████████████████████████████████████████████| 547572/547572 [26:19<00:00, 346.58it/s]\n",
      "100%|██████████████████████████████████████████████████████████| 549128/549128 [26:17<00:00, 348.07it/s]\n",
      "100%|██████████████████████████████████████████████████████████| 542584/542584 [25:55<00:00, 348.91it/s]\n",
      "100%|██████████████████████████████████████████████████████████| 553928/553928 [26:44<00:00, 345.18it/s]\n",
      "100%|██████████████████████████████████████████████████████████| 541092/541092 [25:57<00:00, 347.37it/s]\n",
      "100%|██████████████████████████████████████████████████████████| 542240/542240 [25:55<00:00, 348.53it/s]\n",
      "100%|██████████████████████████████████████████████████████████| 536692/536692 [25:55<00:00, 345.02it/s]\n",
      "100%|██████████████████████████████████████████████████████████| 548788/548788 [26:32<00:00, 344.53it/s]\n",
      "100%|██████████████████████████████████████████████████████████| 541196/541196 [25:53<00:00, 348.29it/s]\n",
      "100%|██████████████████████████████████████████████████████████| 541568/541568 [26:10<00:00, 344.90it/s]\n",
      " 90%|████████████████████████████████████████████████████      | 481082/535316 [26:45<02:56, 307.62it/s]"
     ]
    }
   ],
   "source": [
    "for ind in inds[4:]:\n",
    "    extract_training_data(matched_profile_files[ind], sim_files[ind], \"/home/simon/data/poem/training_data.nc\")"
   ]
  },
  {
   "cell_type": "code",
   "execution_count": null,
   "id": "58a9a35d-ede1-4c5d-a75d-e4a2704cff6c",
   "metadata": {},
   "outputs": [],
   "source": [
    "from poem.emulator.training_data import TrainingData\n",
    "training_data = TrainingData(\"/home/simon/data/poem/training_data.nc\")"
   ]
  },
  {
   "cell_type": "markdown",
   "id": "4a8d750f-5181-4221-a3e1-04de8261acab",
   "metadata": {},
   "source": [
    "# "
   ]
  },
  {
   "cell_type": "code",
   "execution_count": 87,
   "id": "43747408-9402-4624-b1e3-3b9aa2fd752f",
   "metadata": {},
   "outputs": [],
   "source": [
    "x, y = training_data[0]"
   ]
  },
  {
   "cell_type": "code",
   "execution_count": null,
   "id": "0db4a54c-d5fb-4cde-acbc-73831129aaa8",
   "metadata": {},
   "outputs": [],
   "source": [
    "1"
   ]
  },
  {
   "cell_type": "code",
   "execution_count": null,
   "id": "81a825d6-5842-4501-af73-0ad2cb5a515f",
   "metadata": {},
   "outputs": [],
   "source": []
  }
 ],
 "metadata": {
  "kernelspec": {
   "display_name": "Python 3 (ipykernel)",
   "language": "python",
   "name": "python3"
  },
  "language_info": {
   "codemirror_mode": {
    "name": "ipython",
    "version": 3
   },
   "file_extension": ".py",
   "mimetype": "text/x-python",
   "name": "python",
   "nbconvert_exporter": "python",
   "pygments_lexer": "ipython3",
   "version": "3.10.14"
  }
 },
 "nbformat": 4,
 "nbformat_minor": 5
}
